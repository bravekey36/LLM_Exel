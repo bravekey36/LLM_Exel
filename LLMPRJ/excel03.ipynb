{
 "cells": [
  {
   "cell_type": "code",
   "execution_count": null,
   "id": "47d0a106",
   "metadata": {},
   "outputs": [
    {
     "name": "stdout",
     "output_type": "stream",
     "text": [
      "* Running on local URL:  http://127.0.0.1:7872\n",
      "* To create a public link, set `share=True` in `launch()`.\n"
     ]
    },
    {
     "data": {
      "text/html": [
       "<div><iframe src=\"http://127.0.0.1:7872/\" width=\"100%\" height=\"500\" allow=\"autoplay; camera; microphone; clipboard-read; clipboard-write;\" frameborder=\"0\" allowfullscreen></iframe></div>"
      ],
      "text/plain": [
       "<IPython.core.display.HTML object>"
      ]
     },
     "metadata": {},
     "output_type": "display_data"
    },
    {
     "data": {
      "text/plain": []
     },
     "execution_count": 58,
     "metadata": {},
     "output_type": "execute_result"
    }
   ],
   "source": [
    "import gradio as gr\n",
    "import pandas as pd\n",
    "import io\n",
    "from langchain_community.llms import Ollama  # 올바른 import\n",
    "\n",
    "class ExcelChatBot:\n",
    "    def __init__(self):\n",
    "        # Ollama LLM 초기화 (모델명은 상황에 맞게 수정)\n",
    "        self.llm = Ollama(model=\"gemma2:9b\", temperature=0)\n",
    "\n",
    "    def _summarize_excel(self, excel_file: io.BytesIO) -> str:\n",
    "        try:\n",
    "            df = pd.read_excel(excel_file)\n",
    "            summary = (\n",
    "                f\"엑셀 데이터 요약:\\n\"\n",
    "                f\"- 컬럼명: {', '.join(df.columns)}\\n\"\n",
    "                f\"- 데이터 샘플:\\n{df.head(3).to_string(index=False)}\"\n",
    "            )\n",
    "            return summary\n",
    "        except Exception as e:\n",
    "            return f\"엑셀 파일을 처리하는 중 오류가 발생했습니다: {e}\"\n",
    "\n",
    "    def _create_prompt(self, question: str, excel_summary: str | None) -> str:\n",
    "        prompt = \"당신은 엑셀 함수 및 데이터 분석에 능한 한국어 AI 비서입니다.\\n\"\n",
    "        if excel_summary:\n",
    "            prompt += excel_summary + \"\\n\"\n",
    "        prompt += f\"사용자의 질문에 대해 명확하고 친절하게 답변해주세요.\\n질문: {question}\\n답변:\"\n",
    "        return prompt\n",
    "\n",
    "    def answer(self, question: str, excel_file: io.BytesIO | None) -> str:\n",
    "        # 엑셀 요약 생성\n",
    "        excel_summary = None\n",
    "        if excel_file is not None:\n",
    "            excel_summary = self._summarize_excel(excel_file)\n",
    "\n",
    "        prompt = self._create_prompt(question, excel_summary)\n",
    "\n",
    "        # Ollama LLM 호출\n",
    "        try:\n",
    "            response = self.llm.generate([prompt])  # 리스트로 감싸기\n",
    "            return response.generations[0][0].text.strip()\n",
    "        except Exception as e:\n",
    "            return f\"⚠️ 답변 생성 중 오류가 발생했습니다: {e}\"\n",
    "\n",
    "# Gradio UI 구성\n",
    "def gr_interface(question, excel_file):\n",
    "    chatbot = ExcelChatBot()\n",
    "    return chatbot.answer(question, excel_file)\n",
    "\n",
    "with gr.Blocks() as demo:\n",
    "    gr.Markdown(\"# 엑셀 질문 챗봇\")\n",
    "    question_input = gr.Textbox(label=\"질문을 입력하세요\")\n",
    "    excel_input = gr.File(label=\"엑셀 파일 업로드 (선택 사항)\", file_types=[\".xlsx\", \".xls\"])\n",
    "    answer_output = gr.Textbox(label=\"답변\", lines=10)\n",
    "\n",
    "    submit_btn = gr.Button(\"질문하기\")\n",
    "\n",
    "    submit_btn.click(\n",
    "        fn=gr_interface,\n",
    "        inputs=[question_input, excel_input],\n",
    "        outputs=answer_output\n",
    "    )\n",
    "\n",
    "demo.launch()"
   ]
  }
 ],
 "metadata": {
  "kernelspec": {
   "display_name": "Python 3",
   "language": "python",
   "name": "python3"
  },
  "language_info": {
   "codemirror_mode": {
    "name": "ipython",
    "version": 3
   },
   "file_extension": ".py",
   "mimetype": "text/x-python",
   "name": "python",
   "nbconvert_exporter": "python",
   "pygments_lexer": "ipython3",
   "version": "3.10.6"
  }
 },
 "nbformat": 4,
 "nbformat_minor": 5
}
